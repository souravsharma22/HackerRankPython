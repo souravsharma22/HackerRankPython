{
 "cells": [
  {
   "cell_type": "code",
   "execution_count": 43,
   "metadata": {},
   "outputs": [
    {
     "name": "stdout",
     "output_type": "stream",
     "text": [
      "   X   Y   Z\n",
      "0  2  34  34\n",
      "1  3   6  56\n",
      "2  4  23   8\n",
      "3  2  43   7\n",
      "4  1  34   6\n",
      "5  3  29  55\n"
     ]
    }
   ],
   "source": [
    "import pandas as pd\n",
    "import numpy as np\n",
    "dis = { 'X':[2,3,4,2,1,3],'Y':[34,6,23,43,34,29],\"Z\":[34,56,8,7,6,55]}\n",
    "df = pd.DataFrame(dis)\n",
    "print(df)"
   ]
  },
  {
   "cell_type": "code",
   "execution_count": 44,
   "metadata": {},
   "outputs": [
    {
     "name": "stdout",
     "output_type": "stream",
     "text": [
      "        name  score  attempts qualify\n",
      "a  Anastasia   12.5         1     yes\n",
      "b       Dima    9.0         3      no\n",
      "c  Katherine   16.5         2     yes\n",
      "d      James    NaN         3      no\n",
      "e      Emily    9.0         2      no\n",
      "f    Michael   20.0         3     yes\n",
      "g    Matthew   14.5         1     yes\n",
      "h      Laura    NaN         1      no\n",
      "i      Kevin    8.0         2      no\n",
      "j      Jonas   19.0         1     yes\n"
     ]
    }
   ],
   "source": [
    "exam_data = {'name': ['Anastasia', 'Dima', 'Katherine', 'James', 'Emily', 'Michael', 'Matthew', 'Laura', 'Kevin', 'Jonas'],\n",
    "'score': [12.5, 9, 16.5, np.nan, 9, 20, 14.5, np.nan, 8, 19],\n",
    "'attempts': [1, 3, 2, 3, 2, 3, 1, 1, 2, 1],\n",
    "'qualify': ['yes', 'no', 'yes', 'no', 'no', 'yes', 'yes', 'no', 'no', 'yes']}\n",
    "labels = ['a', 'b', 'c', 'd', 'e', 'f', 'g', 'h', 'i', 'j']\n",
    "#Creating data frame with index as labels\n",
    "#exam_data[\"labels\"]= labels\n",
    "#df2 = pd.DataFrame(exam_data)\n",
    "#df2.set_index('labels',inplace=True)\n",
    "#df2 = df2.iloc[:,[2,0,3,1]]\n",
    "\n",
    "df2 = pd.DataFrame(exam_data,index=labels)\n",
    "print(df2)"
   ]
  },
  {
   "cell_type": "code",
   "execution_count": 45,
   "metadata": {},
   "outputs": [
    {
     "name": "stdout",
     "output_type": "stream",
     "text": [
      "<class 'pandas.core.frame.DataFrame'>\n",
      "Index: 10 entries, a to j\n",
      "Data columns (total 4 columns):\n",
      " #   Column    Non-Null Count  Dtype  \n",
      "---  ------    --------------  -----  \n",
      " 0   name      10 non-null     object \n",
      " 1   score     8 non-null      float64\n",
      " 2   attempts  10 non-null     int64  \n",
      " 3   qualify   10 non-null     object \n",
      "dtypes: float64(1), int64(1), object(2)\n",
      "memory usage: 400.0+ bytes\n",
      "None\n"
     ]
    }
   ],
   "source": [
    "print(df2.info())\n",
    "#printing the summary of the data frame"
   ]
  },
  {
   "cell_type": "code",
   "execution_count": 46,
   "metadata": {},
   "outputs": [
    {
     "name": "stdout",
     "output_type": "stream",
     "text": [
      "        name  score  attempts qualify\n",
      "a  Anastasia   12.5         1     yes\n",
      "b       Dima    9.0         3      no\n",
      "c  Katherine   16.5         2     yes\n"
     ]
    }
   ],
   "source": [
    "#priting first 3 row\n",
    "print(df2.iloc[:3])"
   ]
  },
  {
   "cell_type": "code",
   "execution_count": 47,
   "metadata": {},
   "outputs": [
    {
     "name": "stdout",
     "output_type": "stream",
     "text": [
      "        name  score\n",
      "a  Anastasia   12.5\n",
      "b       Dima    9.0\n",
      "c  Katherine   16.5\n",
      "d      James    NaN\n",
      "e      Emily    9.0\n",
      "f    Michael   20.0\n",
      "g    Matthew   14.5\n",
      "h      Laura    NaN\n",
      "i      Kevin    8.0\n",
      "j      Jonas   19.0\n"
     ]
    }
   ],
   "source": [
    "#printing two columns\n",
    "print(df2.iloc[:,:2])"
   ]
  },
  {
   "cell_type": "code",
   "execution_count": 48,
   "metadata": {},
   "outputs": [
    {
     "name": "stdout",
     "output_type": "stream",
     "text": [
      "      name  score  attempts qualify\n",
      "b     Dima    9.0         3      no\n",
      "d    James    NaN         3      no\n",
      "f  Michael   20.0         3     yes\n",
      "g  Matthew   14.5         1     yes\n"
     ]
    }
   ],
   "source": [
    "#printing specified index rows\n",
    "print(df2.iloc[[1,3,5,6]])"
   ]
  },
  {
   "cell_type": "code",
   "execution_count": 49,
   "metadata": {},
   "outputs": [
    {
     "name": "stdout",
     "output_type": "stream",
     "text": [
      "      name  score  attempts qualify\n",
      "b     Dima    9.0         3      no\n",
      "d    James    NaN         3      no\n",
      "f  Michael   20.0         3     yes\n"
     ]
    }
   ],
   "source": [
    "#printing if a value specified exceeds\n",
    "df3 = df2[df2[\"attempts\"]>2]\n",
    "print(df3)"
   ]
  },
  {
   "cell_type": "code",
   "execution_count": 50,
   "metadata": {},
   "outputs": [
    {
     "name": "stdout",
     "output_type": "stream",
     "text": [
      "4\n",
      "10\n"
     ]
    }
   ],
   "source": [
    "#counting number of rows and no. of columns\n",
    "n_row = 0\n",
    "n_column = 0\n",
    "for col in df2.columns:\n",
    "    n_column +=1\n",
    "print(n_column)\n",
    "n_row = len(df2[\"attempts\"])\n",
    "print(n_row)"
   ]
  },
  {
   "cell_type": "code",
   "execution_count": 51,
   "metadata": {},
   "outputs": [
    {
     "name": "stdout",
     "output_type": "stream",
     "text": [
      "        name  score  attempts qualify\n",
      "a  Anastasia   12.5         1     yes\n",
      "b       Dima    9.0         3      no\n",
      "c  Katherine   16.5         2     yes\n",
      "d      James    NaN         3      no\n",
      "e      Emily    9.0         2      no\n",
      "f    Michael   20.0         3     yes\n",
      "g    Matthew   14.5         1     yes\n",
      "h      Laura    NaN         1      no\n",
      "i      Kevin    8.0         2      no\n",
      "j      Jonas   19.0         1     yes\n",
      "    name  score  attempts qualify\n",
      "d  James    NaN         3      no\n",
      "h  Laura    NaN         1      no\n"
     ]
    }
   ],
   "source": [
    "#selecting rows with score none\n",
    "print(df2)\n",
    "df4 = df2[df2[\"score\"].isnull()]\n",
    "print(df4)"
   ]
  },
  {
   "cell_type": "code",
   "execution_count": 52,
   "metadata": {},
   "outputs": [
    {
     "name": "stdout",
     "output_type": "stream",
     "text": [
      "        name  score  attempts qualify\n",
      "c  Katherine   16.5         2     yes\n",
      "f    Michael   20.0         3     yes\n",
      "j      Jonas   19.0         1     yes\n"
     ]
    }
   ],
   "source": [
    "#selecting rowa with particular score\n",
    "df5 = df2[(df2[\"score\"]>=15) & (df2[\"score\"]<=20)] \n",
    "print(df5)"
   ]
  },
  {
   "cell_type": "code",
   "execution_count": 53,
   "metadata": {},
   "outputs": [
    {
     "name": "stdout",
     "output_type": "stream",
     "text": [
      "    name  score  attempts qualify\n",
      "j  Jonas   19.0         1     yes\n",
      "        name  score  attempts qualify\n",
      "a  Anastasia   12.5         1     yes\n",
      "b       Dima    9.0         3      no\n",
      "c  Katherine   16.5         2     yes\n",
      "d      James    NaN         3      no\n",
      "e      Emily    9.0         2      no\n",
      "f    Michael   20.0         3     yes\n",
      "g    Matthew   14.5         1     yes\n",
      "h      Laura    NaN         1      no\n",
      "i      Kevin    8.0         2      no\n",
      "j      Jonas   19.0         1     yes\n"
     ]
    }
   ],
   "source": [
    "#selecting rowa with particular score and attempt\n",
    "df6 = df2[(df2[\"score\"]>=15) & (df2[\"attempts\"]<2)] \n",
    "print(df6)\n",
    "print(df2)"
   ]
  },
  {
   "cell_type": "code",
   "execution_count": 54,
   "metadata": {},
   "outputs": [
    {
     "name": "stdout",
     "output_type": "stream",
     "text": [
      "        name  score  attempts qualify\n",
      "a  Anastasia   12.5         1     yes\n",
      "b       Dima    9.0         3      no\n",
      "c  Katherine   16.5         2     yes\n",
      "d      James   11.5         3      no\n",
      "e      Emily    9.0         2      no\n",
      "f    Michael   20.0         3     yes\n",
      "g    Matthew   14.5         1     yes\n",
      "h      Laura    NaN         1      no\n",
      "i      Kevin    8.0         2      no\n",
      "j      Jonas   19.0         1     yes\n"
     ]
    }
   ],
   "source": [
    "df2.at['d',\"score\"]=11.5\n",
    "print(df2)"
   ]
  },
  {
   "cell_type": "code",
   "execution_count": 55,
   "metadata": {},
   "outputs": [
    {
     "name": "stdout",
     "output_type": "stream",
     "text": [
      "19\n"
     ]
    }
   ],
   "source": [
    "#sum of examination attempt\n",
    "print(df2[\"attempts\"].sum())"
   ]
  },
  {
   "cell_type": "code",
   "execution_count": 56,
   "metadata": {},
   "outputs": [
    {
     "name": "stdout",
     "output_type": "stream",
     "text": [
      "13.333333333333334\n"
     ]
    }
   ],
   "source": [
    "print(df2['score'].mean())"
   ]
  },
  {
   "cell_type": "code",
   "execution_count": 59,
   "metadata": {},
   "outputs": [
    {
     "name": "stdout",
     "output_type": "stream",
     "text": [
      "     name  score  attempts qualify\n",
      "k  Suresh   15.5         1     yes\n"
     ]
    }
   ],
   "source": [
    "new_dis = {\"name\" : \"Suresh\", \"score\": 15.5, \"attempts\": 1, \"qualify\": \"yes\"}\n",
    "index = ['k']\n",
    "ndf = pd.DataFrame(new_dis,index=index)\n",
    "print(ndf)"
   ]
  },
  {
   "cell_type": "code",
   "execution_count": 61,
   "metadata": {},
   "outputs": [
    {
     "name": "stdout",
     "output_type": "stream",
     "text": [
      "        name  score  attempts qualify\n",
      "a  Anastasia   12.5         1     yes\n",
      "b       Dima    9.0         3      no\n",
      "c  Katherine   16.5         2     yes\n",
      "d      James   11.5         3      no\n",
      "e      Emily    9.0         2      no\n",
      "f    Michael   20.0         3     yes\n",
      "g    Matthew   14.5         1     yes\n",
      "h      Laura    NaN         1      no\n",
      "i      Kevin    8.0         2      no\n",
      "j      Jonas   19.0         1     yes\n",
      "k     Suresh   15.5         1     yes\n"
     ]
    }
   ],
   "source": [
    "cdf = pd.concat([df2,ndf])\n",
    "print(cdf)"
   ]
  },
  {
   "cell_type": "code",
   "execution_count": 69,
   "metadata": {},
   "outputs": [
    {
     "name": "stdout",
     "output_type": "stream",
     "text": [
      "        name  score  attempts qualify\n",
      "a  Anastasia   12.5         1     yes\n",
      "b       Dima    9.0         3      no\n",
      "c  Katherine   16.5         2     yes\n",
      "d      James   11.5         3      no\n",
      "e      Emily    9.0         2      no\n",
      "f    Michael   20.0         3     yes\n",
      "g    Matthew   14.5         1     yes\n",
      "h      Laura    NaN         1      no\n",
      "i      Kevin    8.0         2      no\n",
      "j      Jonas   19.0         1     yes\n"
     ]
    }
   ],
   "source": [
    "cdf.drop('k',inplace=True)\n",
    "print(df2)"
   ]
  },
  {
   "cell_type": "code",
   "execution_count": 71,
   "metadata": {},
   "outputs": [
    {
     "name": "stdout",
     "output_type": "stream",
     "text": [
      "        name  score  attempts qualify\n",
      "a  Anastasia   12.5         1     yes\n",
      "b       Dima    9.0         3      no\n",
      "c  Katherine   16.5         2     yes\n",
      "d      James   11.5         3      no\n",
      "e      Emily    9.0         2      no\n",
      "f    Michael   20.0         3     yes\n",
      "g    Matthew   14.5         1     yes\n",
      "h      Laura    NaN         1      no\n",
      "i      Kevin    8.0         2      no\n",
      "j      Jonas   19.0         1     yes\n"
     ]
    }
   ],
   "source": [
    "cdf.sort_values('name')\n",
    "print(cdf)"
   ]
  },
  {
   "cell_type": "code",
   "execution_count": 76,
   "metadata": {},
   "outputs": [
    {
     "name": "stdout",
     "output_type": "stream",
     "text": [
      "        name  score  attempts qualify\n",
      "f    Michael   20.0         3     yes\n",
      "g    Matthew   14.5         1     yes\n",
      "h      Laura    NaN         1      no\n",
      "i      Kevin    8.0         2      no\n",
      "c  Katherine   16.5         2     yes\n",
      "j      Jonas   19.0         1     yes\n",
      "d      James   11.5         3      no\n",
      "e      Emily    9.0         2      no\n",
      "b       Dima    9.0         3      no\n",
      "a  Anastasia   12.5         1     yes\n"
     ]
    }
   ],
   "source": [
    "cdf.sort_values('name',ascending=False,inplace=True)\n",
    "print(cdf)"
   ]
  },
  {
   "cell_type": "code",
   "execution_count": 77,
   "metadata": {},
   "outputs": [
    {
     "name": "stdout",
     "output_type": "stream",
     "text": [
      "        name  score  attempts qualify\n",
      "f    Michael   20.0         3    True\n",
      "g    Matthew   14.5         1    True\n",
      "h      Laura    NaN         1   False\n",
      "i      Kevin    8.0         2   False\n",
      "c  Katherine   16.5         2    True\n",
      "j      Jonas   19.0         1    True\n",
      "d      James   11.5         3   False\n",
      "e      Emily    9.0         2   False\n",
      "b       Dima    9.0         3   False\n",
      "a  Anastasia   12.5         1    True\n"
     ]
    }
   ],
   "source": [
    "#replacing all the data of a column\n",
    "cdf['qualify'].replace('yes',\"True\",inplace=True)\n",
    "cdf['qualify'].replace('no',\"False\",inplace=True)\n",
    "print(cdf)"
   ]
  },
  {
   "cell_type": "code",
   "execution_count": 78,
   "metadata": {},
   "outputs": [
    {
     "name": "stdout",
     "output_type": "stream",
     "text": [
      "        name  score  attempts qualify\n",
      "f    Michael   20.0         3    True\n",
      "g    Matthew   14.5         1    True\n",
      "h      Laura    NaN         1   False\n",
      "i      Kevin    8.0         2   False\n",
      "c  Katherine   16.5         2    True\n",
      "j      Jonas   19.0         1    True\n",
      "d     Suresh   11.5         3   False\n",
      "e      Emily    9.0         2   False\n",
      "b       Dima    9.0         3   False\n",
      "a  Anastasia   12.5         1    True\n"
     ]
    }
   ],
   "source": [
    "cdf['name'].replace('James',\"Suresh\",inplace=True)\n",
    "print(cdf)"
   ]
  },
  {
   "cell_type": "code",
   "execution_count": 81,
   "metadata": {},
   "outputs": [
    {
     "name": "stdout",
     "output_type": "stream",
     "text": [
      "        name  score  attempts\n",
      "f    Michael   20.0         3\n",
      "g    Matthew   14.5         1\n",
      "h      Laura    NaN         1\n",
      "i      Kevin    8.0         2\n",
      "c  Katherine   16.5         2\n",
      "j      Jonas   19.0         1\n",
      "d     Suresh   11.5         3\n",
      "e      Emily    9.0         2\n",
      "b       Dima    9.0         3\n",
      "a  Anastasia   12.5         1\n"
     ]
    }
   ],
   "source": [
    "del cdf['qualify']\n",
    "print(cdf)"
   ]
  },
  {
   "cell_type": "code",
   "execution_count": 83,
   "metadata": {},
   "outputs": [
    {
     "name": "stdout",
     "output_type": "stream",
     "text": [
      "        name  score  attempts qualify\n",
      "a  Anastasia   12.5         1     yes\n",
      "b       Dima    9.0         3      no\n",
      "c  Katherine   16.5         2     yes\n",
      "d      James   11.5         3      no\n",
      "e      Emily    9.0         2      no\n",
      "f    Michael   20.0         3     yes\n",
      "g    Matthew   14.5         1     yes\n",
      "h      Laura    NaN         1      no\n",
      "i      Kevin    8.0         2      no\n",
      "j      Jonas   19.0         1     yes\n",
      "        name  score  attempts qualify        Color\n",
      "a  Anastasia   12.5         1     yes          red\n",
      "b       Dima    9.0         3      no         blue\n",
      "c  Katherine   16.5         2     yes        cream\n",
      "d      James   11.5         3      no     darkblue\n",
      "e      Emily    9.0         2      no      emirate\n",
      "f    Michael   20.0         3     yes  faintYellow\n",
      "g    Matthew   14.5         1     yes        Green\n",
      "h      Laura    NaN         1      no        Hazel\n",
      "i      Kevin    8.0         2      no       indigo\n",
      "j      Jonas   19.0         1     yes       jamuni\n"
     ]
    }
   ],
   "source": [
    "#inserting a new column in dataframe\n",
    "print(df2)\n",
    "colors = [\"red\",\"blue\",\"cream\",\"darkblue\",\"emirate\",\"faintYellow\",\"Green\",\"Hazel\",\"indigo\",\"jamuni\"]\n",
    "df2[\"Color\"]=colors\n",
    "print(df2)"
   ]
  },
  {
   "cell_type": "code",
   "execution_count": 96,
   "metadata": {},
   "outputs": [
    {
     "name": "stdout",
     "output_type": "stream",
     "text": [
      "a    Anastasia\n",
      "b         Dima\n",
      "c    Katherine\n",
      "d        James\n",
      "e        Emily\n",
      "f      Michael\n",
      "g      Matthew\n",
      "h        Laura\n",
      "i        Kevin\n",
      "j        Jonas\n",
      "Name: name, dtype: object\n",
      "a    12.5\n",
      "b     9.0\n",
      "c    16.5\n",
      "d    11.5\n",
      "e     9.0\n",
      "f    20.0\n",
      "g    14.5\n",
      "h     NaN\n",
      "i     8.0\n",
      "j    19.0\n",
      "Name: score, dtype: float64\n",
      "a    1\n",
      "b    3\n",
      "c    2\n",
      "d    3\n",
      "e    2\n",
      "f    3\n",
      "g    1\n",
      "h    1\n",
      "i    2\n",
      "j    1\n",
      "Name: attempts, dtype: int64\n",
      "a    yes\n",
      "b     no\n",
      "c    yes\n",
      "d     no\n",
      "e     no\n",
      "f    yes\n",
      "g    yes\n",
      "h     no\n",
      "i     no\n",
      "j    yes\n",
      "Name: qualify, dtype: object\n",
      "a            red\n",
      "b           blue\n",
      "c          cream\n",
      "d       darkblue\n",
      "e        emirate\n",
      "f    faintYellow\n",
      "g          Green\n",
      "h          Hazel\n",
      "i         indigo\n",
      "j         jamuni\n",
      "Name: Color, dtype: object\n"
     ]
    }
   ],
   "source": [
    "#iteration in data frame\n",
    "#columns each\n",
    "for col in df2.columns:\n",
    "    print(df2[col])"
   ]
  },
  {
   "cell_type": "code",
   "execution_count": 101,
   "metadata": {},
   "outputs": [
    {
     "name": "stdout",
     "output_type": "stream",
     "text": [
      "['name', 'score', 'attempts', 'qualify', 'Color']\n"
     ]
    }
   ],
   "source": [
    "list1 = []\n",
    "for col in df2.columns:\n",
    "    list1.append(col)\n",
    "print(list1)"
   ]
  }
 ],
 "metadata": {
  "kernelspec": {
   "display_name": "base",
   "language": "python",
   "name": "python3"
  },
  "language_info": {
   "codemirror_mode": {
    "name": "ipython",
    "version": 3
   },
   "file_extension": ".py",
   "mimetype": "text/x-python",
   "name": "python",
   "nbconvert_exporter": "python",
   "pygments_lexer": "ipython3",
   "version": "3.11.7"
  }
 },
 "nbformat": 4,
 "nbformat_minor": 2
}
